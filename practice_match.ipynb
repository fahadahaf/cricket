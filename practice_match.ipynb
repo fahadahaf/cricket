{
 "cells": [
  {
   "cell_type": "code",
   "execution_count": 68,
   "id": "7e4f6400-6fb1-499b-b3e3-0b56355c374f",
   "metadata": {},
   "outputs": [],
   "source": [
    "import time\n",
    "import pandas as pd\n",
    "import numpy as np\n",
    "from cricket.play.match import Match\n",
    "from cricket.agents.team import Team\n",
    "from IPython import display"
   ]
  },
  {
   "cell_type": "code",
   "execution_count": 79,
   "id": "981cb335-6fa6-449f-a733-1478d74a6be3",
   "metadata": {},
   "outputs": [
    {
     "name": "stdout",
     "output_type": "stream",
     "text": [
      "India\n"
     ]
    }
   ],
   "source": [
    "tm1 = Team('pk92', 'Pakistan')\n",
    "tm2 = Team('in91', 'India')\n",
    "tm1.add_players_from_file('datasets/teams/pakistan.csv')\n",
    "tm2.add_players_from_file('datasets/teams/india.csv')\n",
    "tm1.set_bowling_order([8,10,9,7,5])\n",
    "tm2.set_bowling_order([9,10,8,5,7])\n",
    "match = Match(tm1, tm2, matchformat='T20', pitch_type='green')\n",
    "match.toss()\n",
    "match.start()\n",
    "print(match.batting_team.name)"
   ]
  },
  {
   "cell_type": "code",
   "execution_count": 80,
   "id": "94cb373f-f55a-4e62-ae67-1e787a49ca54",
   "metadata": {},
   "outputs": [],
   "source": [
    "df = pd.DataFrame([], columns=['Batting', 'R', 'B', '4s', '6s', 'S/R'])\n",
    "df['Batting'] = [pl.full_name for pl in match.batting_team.players]\n",
    "df = df.fillna('')\n",
    "new_index = df.index.to_list() + ['Total']\n",
    "df.loc[len(df.index)] = ['','','','','','']\n",
    "df.index = new_index\n",
    "\n",
    "dfb = pd.DataFrame([], columns=['Bowling', 'O', 'M', 'R', 'W', 'Econ'])\n",
    "dfb['Bowling'] = [pl.full_name for pl in np.asarray(match.bowling_team.players)[match.bowling_team.bowling_order]]\n",
    "dfb = dfb.fillna('')"
   ]
  },
  {
   "cell_type": "code",
   "execution_count": 81,
   "id": "07f47e95-58a7-4a8b-8ee5-d2ff87010ca1",
   "metadata": {},
   "outputs": [
    {
     "data": {
      "text/html": [
       "<div>\n",
       "<style scoped>\n",
       "    .dataframe tbody tr th:only-of-type {\n",
       "        vertical-align: middle;\n",
       "    }\n",
       "\n",
       "    .dataframe tbody tr th {\n",
       "        vertical-align: top;\n",
       "    }\n",
       "\n",
       "    .dataframe thead th {\n",
       "        text-align: right;\n",
       "    }\n",
       "</style>\n",
       "<table border=\"1\" class=\"dataframe\">\n",
       "  <thead>\n",
       "    <tr style=\"text-align: right;\">\n",
       "      <th></th>\n",
       "      <th>Batting</th>\n",
       "      <th>R</th>\n",
       "      <th>B</th>\n",
       "      <th>4s</th>\n",
       "      <th>6s</th>\n",
       "      <th>S/R</th>\n",
       "    </tr>\n",
       "  </thead>\n",
       "  <tbody>\n",
       "    <tr>\n",
       "      <th>0</th>\n",
       "      <td>KL, Rahul</td>\n",
       "      <td>65</td>\n",
       "      <td>41</td>\n",
       "      <td>7</td>\n",
       "      <td>1</td>\n",
       "      <td>159.0</td>\n",
       "    </tr>\n",
       "    <tr>\n",
       "      <th>1</th>\n",
       "      <td>Rohit, Sharma</td>\n",
       "      <td>27</td>\n",
       "      <td>10</td>\n",
       "      <td>3</td>\n",
       "      <td>2</td>\n",
       "      <td>270.0</td>\n",
       "    </tr>\n",
       "    <tr>\n",
       "      <th>2</th>\n",
       "      <td>Virat, Kohli</td>\n",
       "      <td>6</td>\n",
       "      <td>3</td>\n",
       "      <td>0</td>\n",
       "      <td>1</td>\n",
       "      <td>200.0</td>\n",
       "    </tr>\n",
       "    <tr>\n",
       "      <th>3</th>\n",
       "      <td>Suryakumar, Yadav</td>\n",
       "      <td>40</td>\n",
       "      <td>20</td>\n",
       "      <td>3</td>\n",
       "      <td>0</td>\n",
       "      <td>200.0</td>\n",
       "    </tr>\n",
       "    <tr>\n",
       "      <th>4</th>\n",
       "      <td>Dinesh, Karthik</td>\n",
       "      <td>9</td>\n",
       "      <td>8</td>\n",
       "      <td>1</td>\n",
       "      <td>0</td>\n",
       "      <td>112.0</td>\n",
       "    </tr>\n",
       "    <tr>\n",
       "      <th>5</th>\n",
       "      <td>Hardik, Pandya</td>\n",
       "      <td>3</td>\n",
       "      <td>6</td>\n",
       "      <td>0</td>\n",
       "      <td>0</td>\n",
       "      <td>50.0</td>\n",
       "    </tr>\n",
       "    <tr>\n",
       "      <th>6</th>\n",
       "      <td>Axar, Patel</td>\n",
       "      <td>0</td>\n",
       "      <td>1</td>\n",
       "      <td>0</td>\n",
       "      <td>0</td>\n",
       "      <td>0.0</td>\n",
       "    </tr>\n",
       "    <tr>\n",
       "      <th>7</th>\n",
       "      <td>Ravichandran, Ashwin</td>\n",
       "      <td>8</td>\n",
       "      <td>10</td>\n",
       "      <td>0</td>\n",
       "      <td>0</td>\n",
       "      <td>80.0</td>\n",
       "    </tr>\n",
       "    <tr>\n",
       "      <th>8</th>\n",
       "      <td>Mohammed, Shami</td>\n",
       "      <td>0</td>\n",
       "      <td>1</td>\n",
       "      <td>0</td>\n",
       "      <td>0</td>\n",
       "      <td>0.0</td>\n",
       "    </tr>\n",
       "    <tr>\n",
       "      <th>9</th>\n",
       "      <td>Bhuvneshwar, Kumar</td>\n",
       "      <td>12</td>\n",
       "      <td>8</td>\n",
       "      <td>1</td>\n",
       "      <td>0</td>\n",
       "      <td>150.0</td>\n",
       "    </tr>\n",
       "    <tr>\n",
       "      <th>10</th>\n",
       "      <td>Arshdeep, Singh</td>\n",
       "      <td>0</td>\n",
       "      <td>1</td>\n",
       "      <td>0</td>\n",
       "      <td>0</td>\n",
       "      <td>0.0</td>\n",
       "    </tr>\n",
       "    <tr>\n",
       "      <th>Total</th>\n",
       "      <td></td>\n",
       "      <td>180</td>\n",
       "      <td>18.1</td>\n",
       "      <td></td>\n",
       "      <td></td>\n",
       "      <td></td>\n",
       "    </tr>\n",
       "  </tbody>\n",
       "</table>\n",
       "</div>"
      ],
      "text/plain": [
       "                    Batting    R     B 4s 6s    S/R\n",
       "0                 KL, Rahul   65    41  7  1  159.0\n",
       "1             Rohit, Sharma   27    10  3  2  270.0\n",
       "2              Virat, Kohli    6     3  0  1  200.0\n",
       "3         Suryakumar, Yadav   40    20  3  0  200.0\n",
       "4           Dinesh, Karthik    9     8  1  0  112.0\n",
       "5            Hardik, Pandya    3     6  0  0   50.0\n",
       "6               Axar, Patel    0     1  0  0    0.0\n",
       "7      Ravichandran, Ashwin    8    10  0  0   80.0\n",
       "8           Mohammed, Shami    0     1  0  0    0.0\n",
       "9        Bhuvneshwar, Kumar   12     8  1  0  150.0\n",
       "10          Arshdeep, Singh    0     1  0  0    0.0\n",
       "Total                        180  18.1             "
      ]
     },
     "metadata": {},
     "output_type": "display_data"
    },
    {
     "data": {
      "text/html": [
       "<div>\n",
       "<style scoped>\n",
       "    .dataframe tbody tr th:only-of-type {\n",
       "        vertical-align: middle;\n",
       "    }\n",
       "\n",
       "    .dataframe tbody tr th {\n",
       "        vertical-align: top;\n",
       "    }\n",
       "\n",
       "    .dataframe thead th {\n",
       "        text-align: right;\n",
       "    }\n",
       "</style>\n",
       "<table border=\"1\" class=\"dataframe\">\n",
       "  <thead>\n",
       "    <tr style=\"text-align: right;\">\n",
       "      <th></th>\n",
       "      <th>Bowling</th>\n",
       "      <th>O</th>\n",
       "      <th>M</th>\n",
       "      <th>R</th>\n",
       "      <th>W</th>\n",
       "      <th>Econ</th>\n",
       "    </tr>\n",
       "  </thead>\n",
       "  <tbody>\n",
       "    <tr>\n",
       "      <th>0</th>\n",
       "      <td>Shaheen, Afridi</td>\n",
       "      <td>4.0</td>\n",
       "      <td>0</td>\n",
       "      <td>41</td>\n",
       "      <td>2</td>\n",
       "      <td>10.25</td>\n",
       "    </tr>\n",
       "    <tr>\n",
       "      <th>1</th>\n",
       "      <td>Naseem, Shah</td>\n",
       "      <td>4.0</td>\n",
       "      <td>0</td>\n",
       "      <td>40</td>\n",
       "      <td>0</td>\n",
       "      <td>10.0</td>\n",
       "    </tr>\n",
       "    <tr>\n",
       "      <th>2</th>\n",
       "      <td>Haris, Rauf</td>\n",
       "      <td>4.0</td>\n",
       "      <td>0</td>\n",
       "      <td>39</td>\n",
       "      <td>2</td>\n",
       "      <td>9.75</td>\n",
       "    </tr>\n",
       "    <tr>\n",
       "      <th>3</th>\n",
       "      <td>Mohammad, Wasim</td>\n",
       "      <td>3.1</td>\n",
       "      <td>0</td>\n",
       "      <td>27</td>\n",
       "      <td>2</td>\n",
       "      <td>8.53</td>\n",
       "    </tr>\n",
       "    <tr>\n",
       "      <th>4</th>\n",
       "      <td>Shadab, Khan</td>\n",
       "      <td>3.0</td>\n",
       "      <td>0</td>\n",
       "      <td>32</td>\n",
       "      <td>4</td>\n",
       "      <td>10.67</td>\n",
       "    </tr>\n",
       "  </tbody>\n",
       "</table>\n",
       "</div>"
      ],
      "text/plain": [
       "           Bowling    O  M   R  W   Econ\n",
       "0  Shaheen, Afridi  4.0  0  41  2  10.25\n",
       "1     Naseem, Shah  4.0  0  40  0   10.0\n",
       "2      Haris, Rauf  4.0  0  39  2   9.75\n",
       "3  Mohammad, Wasim  3.1  0  27  2   8.53\n",
       "4     Shadab, Khan  3.0  0  32  4  10.67"
      ]
     },
     "metadata": {},
     "output_type": "display_data"
    }
   ],
   "source": [
    "while(True):\n",
    "    cs = [match.striker, match.nonstriker]\n",
    "    cb = match.bowler\n",
    "    match.next()\n",
    "    pl1 = match.batting_team.players[cs[0]]\n",
    "    pl2 = match.batting_team.players[cs[1]]\n",
    "    df.loc[cs[0], ['R','B','4s','6s','S/R']] = [pl1.batting.runs, pl1.batting.num_balls, pl1.batting.num_4s, pl1.batting.num_6s, pl1.batting.SR]\n",
    "    df.loc[cs[1], ['R','B','4s','6s','S/R']] = [pl2.batting.runs, pl2.batting.num_balls, pl2.batting.num_4s, pl2.batting.num_6s, pl2.batting.SR]\n",
    "    df.loc['Total', ['R','B']] = [match.current_score, \n",
    "                                  f'{match.current_over}.{match.current_ball}']\n",
    "                                  #pd.to_numeric(df.loc[:df.index[-2],'B'], errors='coerce').sum()]\n",
    "    \n",
    "    bl = match.bowling_team.players[match.bowling_team.bowling_order[cb]]\n",
    "    dfb.loc[cb, ['O','M','R','W','Econ']] = [f'{bl.bowling.num_overs}.{bl.bowling.ball_num}',bl.bowling.num_maiden_overs, bl.bowling.runs, bl.bowling.wickets, bl.bowling.econ]\n",
    "    #print(bl.full_name, bl.bowling.num_overs, bl.bowling.ball_num)\n",
    "    display.clear_output(wait=True)\n",
    "    time.sleep(0)\n",
    "    if match.end_innings:\n",
    "        break\n",
    "    display.display(df)\n",
    "    display.display(dfb)\n",
    "    #print(f'Score: {match.current_score}, Overs: {match.current_over}.{match.current_ball}')\n",
    "display.display(df)\n",
    "display.display(dfb)"
   ]
  },
  {
   "cell_type": "code",
   "execution_count": 82,
   "id": "07dba764-27b8-452c-9f93-b2cff67a9f89",
   "metadata": {},
   "outputs": [
    {
     "name": "stdout",
     "output_type": "stream",
     "text": [
      "Score: 180, Overs: 18.1\n"
     ]
    }
   ],
   "source": [
    "print(f'Score: {match.current_score}, Overs: {match.current_over}.{match.current_ball}')"
   ]
  },
  {
   "cell_type": "code",
   "execution_count": 83,
   "id": "58511a22-fdbf-423d-8583-9cfac3241d22",
   "metadata": {},
   "outputs": [
    {
     "name": "stdout",
     "output_type": "stream",
     "text": [
      "First innings done! please start the second innings.\n"
     ]
    }
   ],
   "source": [
    "match.next()"
   ]
  },
  {
   "cell_type": "code",
   "execution_count": 84,
   "id": "5cbf398d-56f1-4913-bf55-e376a8e81b78",
   "metadata": {},
   "outputs": [
    {
     "name": "stdout",
     "output_type": "stream",
     "text": [
      "Pakistan\n"
     ]
    }
   ],
   "source": [
    "match.start()\n",
    "print(match.batting_team.name)"
   ]
  },
  {
   "cell_type": "code",
   "execution_count": 85,
   "id": "1cfef186-6c8c-4df5-b892-31a1b8159c99",
   "metadata": {},
   "outputs": [],
   "source": [
    "df = pd.DataFrame([], columns=['Batting', 'R', 'B', '4s', '6s', 'S/R'])\n",
    "df['Batting'] = [pl.full_name for pl in match.batting_team.players]\n",
    "df = df.fillna('')\n",
    "new_index = df.index.to_list() + ['Total']\n",
    "df.loc[len(df.index)] = ['','','','','','']\n",
    "df.index = new_index\n",
    "\n",
    "dfb = pd.DataFrame([], columns=['Bowling', 'O', 'M', 'R', 'W', 'Econ'])\n",
    "dfb['Bowling'] = [pl.full_name for pl in np.asarray(match.bowling_team.players)[match.bowling_team.bowling_order]]\n",
    "dfb = dfb.fillna('')"
   ]
  },
  {
   "cell_type": "code",
   "execution_count": 86,
   "id": "77263a13-83fa-4452-a80e-74afd09617ca",
   "metadata": {},
   "outputs": [
    {
     "data": {
      "text/html": [
       "<div>\n",
       "<style scoped>\n",
       "    .dataframe tbody tr th:only-of-type {\n",
       "        vertical-align: middle;\n",
       "    }\n",
       "\n",
       "    .dataframe tbody tr th {\n",
       "        vertical-align: top;\n",
       "    }\n",
       "\n",
       "    .dataframe thead th {\n",
       "        text-align: right;\n",
       "    }\n",
       "</style>\n",
       "<table border=\"1\" class=\"dataframe\">\n",
       "  <thead>\n",
       "    <tr style=\"text-align: right;\">\n",
       "      <th></th>\n",
       "      <th>Batting</th>\n",
       "      <th>R</th>\n",
       "      <th>B</th>\n",
       "      <th>4s</th>\n",
       "      <th>6s</th>\n",
       "      <th>S/R</th>\n",
       "    </tr>\n",
       "  </thead>\n",
       "  <tbody>\n",
       "    <tr>\n",
       "      <th>0</th>\n",
       "      <td>Babar, Azam</td>\n",
       "      <td>10</td>\n",
       "      <td>3</td>\n",
       "      <td>1</td>\n",
       "      <td>1</td>\n",
       "      <td>333.0</td>\n",
       "    </tr>\n",
       "    <tr>\n",
       "      <th>1</th>\n",
       "      <td>Muhammad, Rizwan</td>\n",
       "      <td>11</td>\n",
       "      <td>10</td>\n",
       "      <td>2</td>\n",
       "      <td>0</td>\n",
       "      <td>110.0</td>\n",
       "    </tr>\n",
       "    <tr>\n",
       "      <th>2</th>\n",
       "      <td>Fakhar, Zaman</td>\n",
       "      <td>5</td>\n",
       "      <td>2</td>\n",
       "      <td>1</td>\n",
       "      <td>0</td>\n",
       "      <td>250.0</td>\n",
       "    </tr>\n",
       "    <tr>\n",
       "      <th>3</th>\n",
       "      <td>Shan, Masood</td>\n",
       "      <td>33</td>\n",
       "      <td>18</td>\n",
       "      <td>2</td>\n",
       "      <td>1</td>\n",
       "      <td>183.0</td>\n",
       "    </tr>\n",
       "    <tr>\n",
       "      <th>4</th>\n",
       "      <td>Iftikhar, Ahmed</td>\n",
       "      <td>12</td>\n",
       "      <td>7</td>\n",
       "      <td>0</td>\n",
       "      <td>1</td>\n",
       "      <td>171.0</td>\n",
       "    </tr>\n",
       "    <tr>\n",
       "      <th>5</th>\n",
       "      <td>Shadab, Khan</td>\n",
       "      <td>0</td>\n",
       "      <td>1</td>\n",
       "      <td>0</td>\n",
       "      <td>0</td>\n",
       "      <td>0.0</td>\n",
       "    </tr>\n",
       "    <tr>\n",
       "      <th>6</th>\n",
       "      <td>Mohammad, Nawaz</td>\n",
       "      <td>0</td>\n",
       "      <td>3</td>\n",
       "      <td>0</td>\n",
       "      <td>0</td>\n",
       "      <td>0.0</td>\n",
       "    </tr>\n",
       "    <tr>\n",
       "      <th>7</th>\n",
       "      <td>Mohammad, Wasim</td>\n",
       "      <td>9</td>\n",
       "      <td>10</td>\n",
       "      <td>1</td>\n",
       "      <td>0</td>\n",
       "      <td>90.0</td>\n",
       "    </tr>\n",
       "    <tr>\n",
       "      <th>8</th>\n",
       "      <td>Shaheen, Afridi</td>\n",
       "      <td>0</td>\n",
       "      <td>1</td>\n",
       "      <td>0</td>\n",
       "      <td>0</td>\n",
       "      <td>0.0</td>\n",
       "    </tr>\n",
       "    <tr>\n",
       "      <th>9</th>\n",
       "      <td>Haris, Rauf</td>\n",
       "      <td>1</td>\n",
       "      <td>3</td>\n",
       "      <td>0</td>\n",
       "      <td>0</td>\n",
       "      <td>33.0</td>\n",
       "    </tr>\n",
       "    <tr>\n",
       "      <th>10</th>\n",
       "      <td>Naseem, Shah</td>\n",
       "      <td>4</td>\n",
       "      <td>4</td>\n",
       "      <td>0</td>\n",
       "      <td>0</td>\n",
       "      <td>100.0</td>\n",
       "    </tr>\n",
       "    <tr>\n",
       "      <th>Total</th>\n",
       "      <td></td>\n",
       "      <td>92</td>\n",
       "      <td>10.2</td>\n",
       "      <td></td>\n",
       "      <td></td>\n",
       "      <td></td>\n",
       "    </tr>\n",
       "  </tbody>\n",
       "</table>\n",
       "</div>"
      ],
      "text/plain": [
       "                Batting   R     B 4s 6s    S/R\n",
       "0           Babar, Azam  10     3  1  1  333.0\n",
       "1      Muhammad, Rizwan  11    10  2  0  110.0\n",
       "2         Fakhar, Zaman   5     2  1  0  250.0\n",
       "3          Shan, Masood  33    18  2  1  183.0\n",
       "4       Iftikhar, Ahmed  12     7  0  1  171.0\n",
       "5          Shadab, Khan   0     1  0  0    0.0\n",
       "6       Mohammad, Nawaz   0     3  0  0    0.0\n",
       "7       Mohammad, Wasim   9    10  1  0   90.0\n",
       "8       Shaheen, Afridi   0     1  0  0    0.0\n",
       "9           Haris, Rauf   1     3  0  0   33.0\n",
       "10         Naseem, Shah   4     4  0  0  100.0\n",
       "Total                    92  10.2             "
      ]
     },
     "metadata": {},
     "output_type": "display_data"
    },
    {
     "data": {
      "text/html": [
       "<div>\n",
       "<style scoped>\n",
       "    .dataframe tbody tr th:only-of-type {\n",
       "        vertical-align: middle;\n",
       "    }\n",
       "\n",
       "    .dataframe tbody tr th {\n",
       "        vertical-align: top;\n",
       "    }\n",
       "\n",
       "    .dataframe thead th {\n",
       "        text-align: right;\n",
       "    }\n",
       "</style>\n",
       "<table border=\"1\" class=\"dataframe\">\n",
       "  <thead>\n",
       "    <tr style=\"text-align: right;\">\n",
       "      <th></th>\n",
       "      <th>Bowling</th>\n",
       "      <th>O</th>\n",
       "      <th>M</th>\n",
       "      <th>R</th>\n",
       "      <th>W</th>\n",
       "      <th>Econ</th>\n",
       "    </tr>\n",
       "  </thead>\n",
       "  <tbody>\n",
       "    <tr>\n",
       "      <th>0</th>\n",
       "      <td>Bhuvneshwar, Kumar</td>\n",
       "      <td>2.2</td>\n",
       "      <td>0</td>\n",
       "      <td>19</td>\n",
       "      <td>4</td>\n",
       "      <td>8.14</td>\n",
       "    </tr>\n",
       "    <tr>\n",
       "      <th>1</th>\n",
       "      <td>Arshdeep, Singh</td>\n",
       "      <td>2.0</td>\n",
       "      <td>0</td>\n",
       "      <td>15</td>\n",
       "      <td>2</td>\n",
       "      <td>7.5</td>\n",
       "    </tr>\n",
       "    <tr>\n",
       "      <th>2</th>\n",
       "      <td>Mohammed, Shami</td>\n",
       "      <td>2.0</td>\n",
       "      <td>0</td>\n",
       "      <td>18</td>\n",
       "      <td>0</td>\n",
       "      <td>9.0</td>\n",
       "    </tr>\n",
       "    <tr>\n",
       "      <th>3</th>\n",
       "      <td>Hardik, Pandya</td>\n",
       "      <td>2.0</td>\n",
       "      <td>0</td>\n",
       "      <td>12</td>\n",
       "      <td>2</td>\n",
       "      <td>6.0</td>\n",
       "    </tr>\n",
       "    <tr>\n",
       "      <th>4</th>\n",
       "      <td>Ravichandran, Ashwin</td>\n",
       "      <td>2.0</td>\n",
       "      <td>0</td>\n",
       "      <td>25</td>\n",
       "      <td>2</td>\n",
       "      <td>12.5</td>\n",
       "    </tr>\n",
       "  </tbody>\n",
       "</table>\n",
       "</div>"
      ],
      "text/plain": [
       "                Bowling    O  M   R  W  Econ\n",
       "0    Bhuvneshwar, Kumar  2.2  0  19  4  8.14\n",
       "1       Arshdeep, Singh  2.0  0  15  2   7.5\n",
       "2       Mohammed, Shami  2.0  0  18  0   9.0\n",
       "3        Hardik, Pandya  2.0  0  12  2   6.0\n",
       "4  Ravichandran, Ashwin  2.0  0  25  2  12.5"
      ]
     },
     "metadata": {},
     "output_type": "display_data"
    }
   ],
   "source": [
    "while(True):\n",
    "    cs = [match.striker, match.nonstriker]\n",
    "    cb = match.bowler\n",
    "    match.next()\n",
    "    pl1 = match.batting_team.players[cs[0]]\n",
    "    pl2 = match.batting_team.players[cs[1]]\n",
    "    df.loc[cs[0], ['R','B','4s','6s','S/R']] = [pl1.batting.runs, pl1.batting.num_balls, pl1.batting.num_4s, pl1.batting.num_6s, pl1.batting.SR]\n",
    "    df.loc[cs[1], ['R','B','4s','6s','S/R']] = [pl2.batting.runs, pl2.batting.num_balls, pl2.batting.num_4s, pl2.batting.num_6s, pl2.batting.SR]\n",
    "    df.loc['Total', ['R','B']] = [match.current_score, \n",
    "                                  f'{match.current_over}.{match.current_ball}']\n",
    "                                  #pd.to_numeric(df.loc[:df.index[-2],'B'], errors='coerce').sum()]\n",
    "    \n",
    "    bl = match.bowling_team.players[match.bowling_team.bowling_order[cb]]\n",
    "    dfb.loc[cb, ['O','M','R','W','Econ']] = [f'{bl.bowling.num_overs}.{bl.bowling.ball_num}',bl.bowling.num_maiden_overs, bl.bowling.runs, bl.bowling.wickets, bl.bowling.econ]\n",
    "    #print(bl.full_name, bl.bowling.num_overs, bl.bowling.ball_num)\n",
    "    display.clear_output(wait=True)\n",
    "    time.sleep(0)\n",
    "    if match.end_innings:\n",
    "        break\n",
    "    display.display(df)\n",
    "    display.display(dfb)\n",
    "    #print(f'Score: {match.current_score}, Overs: {match.current_over}.{match.current_ball}')\n",
    "display.display(df)\n",
    "display.display(dfb)"
   ]
  },
  {
   "cell_type": "code",
   "execution_count": 66,
   "id": "b957a6af-3b43-46bd-ab45-3d4fb882e057",
   "metadata": {},
   "outputs": [
    {
     "name": "stdout",
     "output_type": "stream",
     "text": [
      "Overs: 10.1\n"
     ]
    }
   ],
   "source": [
    "print(f'Overs: {match.current_over}.{match.current_ball}')"
   ]
  },
  {
   "cell_type": "code",
   "execution_count": 67,
   "id": "65778830-079f-4eda-bcb4-cc9c69e67519",
   "metadata": {},
   "outputs": [
    {
     "name": "stdout",
     "output_type": "stream",
     "text": [
      "End of match! Winner: Pakistan\n"
     ]
    }
   ],
   "source": [
    "match.next()"
   ]
  },
  {
   "cell_type": "code",
   "execution_count": 57,
   "id": "9168d4bb-881e-40d1-8c3f-6087f4f6198e",
   "metadata": {},
   "outputs": [
    {
     "data": {
      "text/plain": [
       "1"
      ]
     },
     "execution_count": 57,
     "metadata": {},
     "output_type": "execute_result"
    }
   ],
   "source": [
    "match.team1.players[9].prime"
   ]
  },
  {
   "cell_type": "code",
   "execution_count": 41,
   "id": "9477d24f-f7b1-47b7-932f-9d9ed01e53ad",
   "metadata": {},
   "outputs": [
    {
     "data": {
      "text/plain": [
       "'Pakistan'"
      ]
     },
     "execution_count": 41,
     "metadata": {},
     "output_type": "execute_result"
    }
   ],
   "source": [
    "match.match_winner.name"
   ]
  },
  {
   "cell_type": "code",
   "execution_count": 42,
   "id": "05809965-d987-4cf3-a6f6-44c45b2843e2",
   "metadata": {},
   "outputs": [
    {
     "name": "stdout",
     "output_type": "stream",
     "text": [
      "First innings done! please start the second innings.\n",
      "End of match! Winner: Pakistan\n"
     ]
    }
   ],
   "source": [
    "lst_res = []\n",
    "for i in range(0, 500):\n",
    "    tm1 = Team('pk92', 'Pakistan')\n",
    "    tm2 = Team('in91', 'India')\n",
    "    tm1.add_players_from_file('datasets/teams/pakistan.csv')\n",
    "    tm2.add_players_from_file('datasets/teams/india.csv')\n",
    "    tm1.set_bowling_order([8,10,9,7,5])\n",
    "    tm2.set_bowling_order([9,10,8,5,7])\n",
    "    match = Match(tm1, tm2, matchformat='T20', pitch_type='dusty')\n",
    "    match.toss()\n",
    "    match.start()\n",
    "    #print(match.batting_team.name)\n",
    "    while (True):\n",
    "        match.next()\n",
    "        time.sleep(0)\n",
    "        if match.end_innings:\n",
    "            break\n",
    "    match.next()\n",
    "    match.start()\n",
    "    while (True):\n",
    "        match.next()\n",
    "        time.sleep(0)\n",
    "        if match.end_innings:\n",
    "            break\n",
    "    match.next()\n",
    "    try:\n",
    "        winner = match.match_winner.name\n",
    "    except:\n",
    "        winner = 'Drawn'\n",
    "    lst_res.append([match.current_score, match.target_score, winner, match.toss_winner])\n",
    "    display.clear_output(wait=True)"
   ]
  },
  {
   "cell_type": "code",
   "execution_count": 43,
   "id": "703cfb10-71d5-4705-a2f5-756ddac239e4",
   "metadata": {},
   "outputs": [
    {
     "data": {
      "text/plain": [
       "500"
      ]
     },
     "execution_count": 43,
     "metadata": {},
     "output_type": "execute_result"
    }
   ],
   "source": [
    "len(lst_res)"
   ]
  },
  {
   "cell_type": "code",
   "execution_count": 44,
   "id": "b44e67d7-d56f-4023-b4bf-c1f96abcb182",
   "metadata": {},
   "outputs": [
    {
     "data": {
      "text/html": [
       "<div>\n",
       "<style scoped>\n",
       "    .dataframe tbody tr th:only-of-type {\n",
       "        vertical-align: middle;\n",
       "    }\n",
       "\n",
       "    .dataframe tbody tr th {\n",
       "        vertical-align: top;\n",
       "    }\n",
       "\n",
       "    .dataframe thead th {\n",
       "        text-align: right;\n",
       "    }\n",
       "</style>\n",
       "<table border=\"1\" class=\"dataframe\">\n",
       "  <thead>\n",
       "    <tr style=\"text-align: right;\">\n",
       "      <th></th>\n",
       "      <th>0</th>\n",
       "      <th>1</th>\n",
       "    </tr>\n",
       "  </thead>\n",
       "  <tbody>\n",
       "    <tr>\n",
       "      <th>count</th>\n",
       "      <td>500.000000</td>\n",
       "      <td>500.000000</td>\n",
       "    </tr>\n",
       "    <tr>\n",
       "      <th>mean</th>\n",
       "      <td>121.392000</td>\n",
       "      <td>144.184000</td>\n",
       "    </tr>\n",
       "    <tr>\n",
       "      <th>std</th>\n",
       "      <td>33.944112</td>\n",
       "      <td>41.809547</td>\n",
       "    </tr>\n",
       "    <tr>\n",
       "      <th>min</th>\n",
       "      <td>29.000000</td>\n",
       "      <td>28.000000</td>\n",
       "    </tr>\n",
       "    <tr>\n",
       "      <th>25%</th>\n",
       "      <td>98.000000</td>\n",
       "      <td>111.750000</td>\n",
       "    </tr>\n",
       "    <tr>\n",
       "      <th>50%</th>\n",
       "      <td>119.000000</td>\n",
       "      <td>141.500000</td>\n",
       "    </tr>\n",
       "    <tr>\n",
       "      <th>75%</th>\n",
       "      <td>145.000000</td>\n",
       "      <td>177.250000</td>\n",
       "    </tr>\n",
       "    <tr>\n",
       "      <th>max</th>\n",
       "      <td>219.000000</td>\n",
       "      <td>255.000000</td>\n",
       "    </tr>\n",
       "  </tbody>\n",
       "</table>\n",
       "</div>"
      ],
      "text/plain": [
       "                0           1\n",
       "count  500.000000  500.000000\n",
       "mean   121.392000  144.184000\n",
       "std     33.944112   41.809547\n",
       "min     29.000000   28.000000\n",
       "25%     98.000000  111.750000\n",
       "50%    119.000000  141.500000\n",
       "75%    145.000000  177.250000\n",
       "max    219.000000  255.000000"
      ]
     },
     "execution_count": 44,
     "metadata": {},
     "output_type": "execute_result"
    }
   ],
   "source": [
    "pd.DataFrame(lst_res).describe()"
   ]
  },
  {
   "cell_type": "code",
   "execution_count": 45,
   "id": "c26ab652-2af6-4fe0-a21c-b051111cf6af",
   "metadata": {},
   "outputs": [
    {
     "data": {
      "text/plain": [
       "Pakistan    258\n",
       "India       240\n",
       "Drawn         2\n",
       "Name: 2, dtype: int64"
      ]
     },
     "execution_count": 45,
     "metadata": {},
     "output_type": "execute_result"
    }
   ],
   "source": [
    "pd.DataFrame(lst_res)[2].value_counts()"
   ]
  },
  {
   "cell_type": "code",
   "execution_count": null,
   "id": "e6df7d66-1933-4646-8f0d-76d86ab37594",
   "metadata": {},
   "outputs": [],
   "source": []
  }
 ],
 "metadata": {
  "kernelspec": {
   "display_name": "Python 3 (ipykernel)",
   "language": "python",
   "name": "python3"
  },
  "language_info": {
   "codemirror_mode": {
    "name": "ipython",
    "version": 3
   },
   "file_extension": ".py",
   "mimetype": "text/x-python",
   "name": "python",
   "nbconvert_exporter": "python",
   "pygments_lexer": "ipython3",
   "version": "3.9.13"
  }
 },
 "nbformat": 4,
 "nbformat_minor": 5
}
